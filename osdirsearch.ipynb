{
 "cells": [
  {
   "cell_type": "code",
   "execution_count": null,
   "metadata": {
    "collapsed": true
   },
   "outputs": [],
   "source": [
    "import os  \n",
    "  \n",
    "dir = r'e:\\java'  \n",
    "specify_str = 'm'  \n",
    "  \n",
    "# 搜索指定目录  \n",
    "results = []  \n",
    "folders = [dir]  \n",
    "  \n",
    "for folder in folders :  \n",
    "    # 把目录下所有文件夹存入待遍历的folders  \n",
    "    folders += [os.path.join(folder, x) for x in os.listdir(folder) \\  \n",
    "                if os.path.isdir(os.path.join(folder, x))]  \n",
    "  \n",
    "    # 把所有满足条件的文件的相对地址存入结果results  \n",
    "    results += [os.path.relpath(os.path.join(folder, x), start = dir) \\  \n",
    "                for x in os.listdir(folder) \\  \n",
    "                if os.path.isfile(os.path.join(folder, x)) and specify_str in x]  \n",
    "  \n",
    "# 输出结果  \n",
    "for result in results:  \n",
    "    print(result)  \n",
    "print('找到 %s 个结果！' % len(results))  "
   ]
  }
 ],
 "metadata": {
  "kernelspec": {
   "display_name": "Python 2",
   "language": "python",
   "name": "python2"
  },
  "language_info": {
   "codemirror_mode": {
    "name": "ipython",
    "version": 2
   },
   "file_extension": ".py",
   "mimetype": "text/x-python",
   "name": "python",
   "nbconvert_exporter": "python",
   "pygments_lexer": "ipython2",
   "version": "2.7.6"
  }
 },
 "nbformat": 4,
 "nbformat_minor": 0
}
