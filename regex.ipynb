{
 "cells": [
  {
   "cell_type": "code",
   "execution_count": null,
   "metadata": {
    "collapsed": false
   },
   "outputs": [],
   "source": [
    "import re\n",
    "p = re.compile(r'(\\b\\w+)\\s+\\1')\n",
    "p.search('Paris in the the spring').group()\n",
    "pattern = re.compile(r'(Large\\_cgurl\\[1\\]\\s\\=\\s\\\")'\n",
    "                     r'(http\\:\\/\\/hbhost2\\.imgscloud\\.com\\/file\\/)'\n",
    "                     r'([0-9]*)'\n",
    "                     r'(\\/)'\n",
    "                     r'([0-9]*\\_[0-9]*\\.jpg)'\n",
    "                     r'(\\\")'\n",
    "                     )\n",
    "pattern.search('Large_cgurl[1] = \"http://hbhost2.imgscloud.com/file/7160/7160_001.jpg\";').group()"
   ]
  },
  {
   "cell_type": "code",
   "execution_count": null,
   "metadata": {},
   "outputs": [
    {
     "data": {
      "text/plain": [
       "'Large_cgurl[1] = \"http://hbhost2.kk9984.pw/file/6675/6675_001.jpg\"'"
      ]
     },
     "execution_count": 7,
     "metadata": {},
     "output_type": "execute_result"
    }
   ],
   "source": [
    "import re\n",
    "pattern = re.compile(r'(Large\\_cgurl\\[1\\]\\s\\=\\s\\\")'\n",
    "                             r'(http\\:\\/\\/\\w*\\.\\w*\\.\\w*\\/file\\/)'\n",
    "                             r'([0-9]*)'\n",
    "                             r'(\\/)'\n",
    "                             r'([0-9]*\\_)'\n",
    "                             r'([0-9]*\\.jpg)'\n",
    "                             r'(\\\")'\n",
    "                             )\n",
    "#pattern.search('Large_cgurl[1] = \"http://hbhost2.imgscloud.com/file/7160/7160_001.jpg\";').group()\n",
    "pattern.search('Large_cgurl[1] = \"http://hbhost2.kk9984.pw/file/6675/6675_001.jpg\";').group()\n"
   ]
  },
  {
   "cell_type": "code",
   "execution_count": 5,
   "metadata": {},
   "outputs": [
    {
     "data": {
      "text/plain": [
       "'h'"
      ]
     },
     "execution_count": 5,
     "metadata": {},
     "output_type": "execute_result"
    }
   ],
   "source": [
    "import re\n",
    "pattern = re.compile(r'\\w')\n",
    "pattern.search('hteofhooej').group()"
   ]
  },
  {
   "cell_type": "code",
   "execution_count": null,
   "metadata": {},
   "outputs": [],
   "source": []
  }
 ],
 "metadata": {
  "kernelspec": {
   "display_name": "Python 2",
   "language": "python",
   "name": "python2"
  },
  "language_info": {
   "codemirror_mode": {
    "name": "ipython",
    "version": 2
   },
   "file_extension": ".py",
   "mimetype": "text/x-python",
   "name": "python",
   "nbconvert_exporter": "python",
   "pygments_lexer": "ipython2",
   "version": "2.7.6"
  }
 },
 "nbformat": 4,
 "nbformat_minor": 0
}
